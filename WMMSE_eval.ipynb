{
 "cells": [
  {
   "cell_type": "code",
   "execution_count": 1,
   "id": "0c128502-d09a-4a98-9f63-d469d3368b64",
   "metadata": {},
   "outputs": [
    {
     "name": "stderr",
     "output_type": "stream",
     "text": [
      "C:\\Users\\VQ72TN\\Anaconda3\\envs\\pyg_env3\\lib\\site-packages\\tqdm\\auto.py:22: TqdmWarning: IProgress not found. Please update jupyter and ipywidgets. See https://ipywidgets.readthedocs.io/en/stable/user_install.html\n",
      "  from .autonotebook import tqdm as notebook_tqdm\n"
     ]
    }
   ],
   "source": [
    "import scipy.io as sio    # import scipy.io for .mat file I/O\n",
    "import scipy\n",
    "from scipy import stats  \n",
    "import numpy as np                         # import numpy\n",
    "import matplotlib.pyplot as plt            # import matplotlib.pyplot for figure plotting\n",
    "import torch\n",
    "import function_wmmse_powercontrol as wmmse_pc\n",
    "import subnetwork_generator\n",
    "import time\n",
    "import math"
   ]
  },
  {
   "cell_type": "code",
   "execution_count": 3,
   "id": "5e4163ce-f991-47eb-98ec-ebf711aa3f12",
   "metadata": {
    "scrolled": true,
    "tags": []
   },
   "outputs": [],
   "source": [
    "class init_parameters:\n",
    "    def __init__(self,S_sd,rng, num_of_subn):\n",
    "        self.num_of_subnetworks = num_of_subn\n",
    "        self.deploy_length = 20    # the length and breadth of the factory area (m)  \n",
    "        self.subnet_radius = 2      # the radius of the subnetwork cell (m)\n",
    "        self.minD = 0.5               #minimum distance from device to controller(access point) (m)\n",
    "        self.minDistance = self.subnet_radius    #minimum controller to controller distance (m)\n",
    "        self.sigmaS = S_sd        #shadowing standard deviation\n",
    "        self.transmit_power = 1      #normalized transmit power mW\n",
    "        self.rng_value = np.random.RandomState(rng)\n",
    "        self.bandwidth = 5e6         #bandwidth (Hz)\n",
    "        self.frequency = 6e9          #Operating frequency (Hz)\n",
    "        self.lambdA = 3e8/6e9        \n",
    "        self.plExponent = 2.7        #path loss exponent\n",
    "\n",
    "\n",
    "testsh_sd = 7\n",
    "test_num_subn = 20\n",
    "config = init_parameters(testsh_sd ,0,test_num_subn)\n",
    "testing_snapshots = 50000\n",
    "\n",
    "test_powers, dist = subnetwork_generator.generate_samples(config, testing_snapshots)\n",
    "bandwidth = config.bandwidth\n",
    "Noise_power = np.power(10,((-174+10+10*np.log10(bandwidth))/10))\n"
   ]
  },
  {
   "cell_type": "code",
   "execution_count": 4,
   "id": "e63f828f-dd7b-4e02-a78a-8021e9f9437f",
   "metadata": {},
   "outputs": [],
   "source": [
    "def mycapacity(weights, data, num_subnetworks):\n",
    "\n",
    "    weights = weights.reshape([-1,num_subnetworks,1,1])\n",
    "    \n",
    "    power_mat = data.reshape([-1,num_subnetworks,num_subnetworks,1])\n",
    "\n",
    "    weighted_powers = torch.mul(weights,power_mat) #received powers\n",
    "    \n",
    "    eye = torch.eye(num_subnetworks)\n",
    "    \n",
    "    desired_rcv_power = torch.sum(torch.mul(weighted_powers.squeeze(-1),eye), dim=1)\n",
    "   \n",
    "    Interference_power = torch.sum(torch.mul(weighted_powers.squeeze(-1),1-eye), dim=1)\n",
    "\n",
    "    signal_interference_ratio = torch.divide(desired_rcv_power,Interference_power+Noise_power)\n",
    "    \n",
    "    capacity = torch.log2(1+signal_interference_ratio)\n",
    "    \n",
    "    return capacity, weighted_powers   "
   ]
  },
  {
   "cell_type": "code",
   "execution_count": 5,
   "id": "82587ae2-b987-49f6-9afe-27148412cb65",
   "metadata": {},
   "outputs": [],
   "source": [
    "def generate_cdf(values, bins_):\n",
    "    data = np.array(values)\n",
    "    count, bins_count = np.histogram(data, bins=bins_)\n",
    "    pdf = count / sum(count)\n",
    "    cdf = np.cumsum(pdf)\n",
    "    return bins_count[1:], cdf"
   ]
  },
  {
   "cell_type": "code",
   "execution_count": 6,
   "id": "369d4197-84a1-41ab-aa4b-3088d52f247b",
   "metadata": {},
   "outputs": [],
   "source": [
    "def WMMSE_powers_sum_rate(K=config.num_of_subnetworks, num_H=testing_snapshots, Pmax=1, Pmin=0):\n",
    "    Pini = Pmax*np.ones(K)\n",
    "    var_noise = Noise_power\n",
    "    X=np.zeros((K**2,num_H))\n",
    "    Y=np.zeros((K,num_H))\n",
    "    iter_ = np.zeros(num_H)\n",
    "    total_time = 0.0\n",
    "    for loop in range(num_H):\n",
    "        H=test_powers[loop,:,:]\n",
    "        X[:,loop] = np.reshape(H, (K**2,), order=\"F\")\n",
    "        H=np.reshape(X[:,loop], (K,K), order=\"F\")\n",
    "        mid_time = time.time()\n",
    "        Y[:,loop], iter_[loop] = wmmse_pc.WMMSE_sum_rate(Pini, H, Pmax, var_noise)\n",
    "        total_time = total_time + time.time() - mid_time\n",
    "    # print(\"wmmse time: %0.2f s\" % total_time)\n",
    "    return X, Y, total_time, iter_\n",
    "    "
   ]
  },
  {
   "cell_type": "code",
   "execution_count": 7,
   "id": "560411e9-bb70-4853-b004-c0357b1f9158",
   "metadata": {},
   "outputs": [],
   "source": [
    "X_sr,Y_sr,t_sr, iter_ = WMMSE_powers_sum_rate()"
   ]
  },
  {
   "cell_type": "code",
   "execution_count": 8,
   "id": "e021c0f4-e1f6-48e3-a7ba-fc6e65c7bccc",
   "metadata": {},
   "outputs": [],
   "source": [
    "WMMSE_capacities_sr, powers_sr = mycapacity(torch.tensor(np.transpose(Y_sr)), torch.tensor(test_powers), config.num_of_subnetworks)\n",
    "weights_ones = torch.ones_like(torch.tensor(np.transpose(Y_sr)))\n",
    "capacities_ones, Uniform_pow = mycapacity(weights_ones, torch.tensor(test_powers),config.num_of_subnetworks)"
   ]
  },
  {
   "cell_type": "code",
   "execution_count": 10,
   "id": "5ec45a30-6ad5-4bbf-a6d5-e7400372c8f4",
   "metadata": {
    "tags": []
   },
   "outputs": [
    {
     "data": {
      "image/png": "[encoded data removed]",
      "text/plain": [
       "<Figure size 640x480 with 1 Axes>"
      ]
     },
     "metadata": {},
     "output_type": "display_data"
    }
   ],
   "source": [
    "#WMMSE Sum rate powers\n",
    "x,y = generate_cdf(10*np.log10(np.sum(Y_sr,0)/20), 1000)\n",
    "plt.plot(x,y)\n",
    "plt.ylabel('cdf')\n",
    "plt.xlabel('Average deployment transmit power (dBm)')\n",
    "plt.grid()"
   ]
  },
  {
   "cell_type": "code",
   "execution_count": null,
   "id": "9bed898a-935e-4580-a933-08ac172c74a3",
   "metadata": {},
   "outputs": [],
   "source": [
    "## WMMSE Sum rate sum capacities\n",
    "x,y = generate_cdf(torch.sum(WMMSE_capacities_sr,1)/20, 1000)\n",
    "plt.plot(x,y,label=\"WMMSE\")\n",
    "x,y = generate_cdf(torch.sum(capacities_ones,1)/20, 1000)\n",
    "plt.plot(x,y,label=\"Uniform\")\n",
    "plt.legend()\n",
    "plt.ylabel('CDF')\n",
    "plt.xlabel('Spectral efficiency (bits/s/Hz)')\n",
    "tikzplotlib.save(\"tikz files/csWMMSE_sr_sumCap.tex\")\n",
    "plt.grid()"
   ]
  },
  {
   "cell_type": "code",
   "execution_count": null,
   "id": "94f3e4c5-9f26-48cb-a770-de4ea7df8868",
   "metadata": {},
   "outputs": [],
   "source": []
  }
 ],
 "metadata": {
  "kernelspec": {
   "display_name": "Python 3 (ipykernel)",
   "language": "python",
   "name": "python3"
  },
  "language_info": {
   "codemirror_mode": {
    "name": "ipython",
    "version": 3
   },
   "file_extension": ".py",
   "mimetype": "text/x-python",
   "name": "python",
   "nbconvert_exporter": "python",
   "pygments_lexer": "ipython3",
   "version": "3.10.9"
  }
 },
 "nbformat": 4,
 "nbformat_minor": 5
}
